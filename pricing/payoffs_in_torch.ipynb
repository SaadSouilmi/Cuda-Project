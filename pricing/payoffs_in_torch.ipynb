{
 "cells": [
  {
   "cell_type": "code",
   "execution_count": 1,
   "metadata": {},
   "outputs": [
    {
     "data": {
      "text/html": [
       "\n",
       "                <script type=\"application/javascript\" id=\"jupyter_black\">\n",
       "                (function() {\n",
       "                    if (window.IPython === undefined) {\n",
       "                        return\n",
       "                    }\n",
       "                    var msg = \"WARNING: it looks like you might have loaded \" +\n",
       "                        \"jupyter_black in a non-lab notebook with \" +\n",
       "                        \"`is_lab=True`. Please double check, and if \" +\n",
       "                        \"loading with `%load_ext` please review the README!\"\n",
       "                    console.log(msg)\n",
       "                    alert(msg)\n",
       "                })()\n",
       "                </script>\n",
       "                "
      ],
      "text/plain": [
       "<IPython.core.display.HTML object>"
      ]
     },
     "metadata": {},
     "output_type": "display_data"
    }
   ],
   "source": [
    "%load_ext jupyter_black\n",
    "import numpy as np\n",
    "import torch\n",
    "from torch_pricing import asian_option, vmap_asian_option\n",
    "from scipy.stats.qmc import Halton\n",
    "from collections import deque\n",
    "import matplotlib.pyplot as plt\n",
    "import tqdm\n",
    "\n",
    "seed = 42\n",
    "torch.backends.cudnn.deterministic = True\n",
    "torch.backends.cudnn.benchmark = False\n",
    "\n",
    "\n",
    "sampler = Halton(d=6, scramble=True, seed=seed)\n",
    "\n",
    "parameter_space = dict(\n",
    "    spot=(30, 70),\n",
    "    path_integral=(25, 150),\n",
    "    ttm=(0.2, 1),\n",
    "    t=(0, 0.8),\n",
    "    vol=(0.1, 0.5),\n",
    "    r=(0, 0.1),\n",
    ")"
   ]
  },
  {
   "cell_type": "code",
   "execution_count": 2,
   "metadata": {},
   "outputs": [
    {
     "data": {
      "text/plain": [
       "device(type='cuda')"
      ]
     },
     "execution_count": 2,
     "metadata": {},
     "output_type": "execute_result"
    }
   ],
   "source": [
    "device = torch.device(\"cuda\" if torch.cuda.is_available() else \"cpu\")\n",
    "device"
   ]
  },
  {
   "cell_type": "markdown",
   "metadata": {},
   "source": [
    "The black scholes model for the spot price under risk neutral measure is:\n",
    "$$dS_t = rS_t\\,dt + \\sigma S_t\\,dW(t)$$\n",
    "Which is equivalent to:\n",
    "$$d\\log(S_t) = \\left(r - \\frac{\\sigma^2}{2}\\right)\\,dt + \\sigma\\,dW(t)$$\n",
    "The corresponding Euler-Maruyama scheme for a discrete grid $\\{t_k = \\frac{kT}{n},\\; k\\in\\{0,...,n\\}\\}$ is:\n",
    "$$\\log(S_{t_{k+1}})  = \\log(S_{t_k}) + \\left(r - \\frac{\\sigma^2}{2}\\right)\\frac{T}{n} + \\sigma \\sqrt\\frac{T}{n} Z_{k+1}$$\n",
    "Where $Z$ are i.i.d standard normal variables.\n",
    "\n",
    "We want to compute the following price :\n",
    "$$F(t, T, S_t, I_t, r, \\sigma) = e^{-r(T-t)}\\mathbb E\\left[\\left(S_T - I_T\\right)^+\\Big|\\,S_t, \\,I_t\\right]$$\n",
    "$$\\text{Where :}\\quad I_t = \\frac{1}{t}\\int_{0}^{t} S_u\\,du$$"
   ]
  },
  {
   "cell_type": "markdown",
   "metadata": {},
   "source": [
    "We want to learn $F(t, T, S_t, I_t, r, \\sigma)$ for a predefined grid of parameters via an MLP, this translates to finding:\n",
    "$$\\theta^* \\in \\argmin_{\\theta\\in\\Theta}\\mathbb E_{x\\sim D}\\left[(F(x) - T_\\theta(x))^2\\right]$$\n",
    "Where $x = (t, T, S_t, I_t, r, \\sigma)$ and $D$ is a prior distribution over the parameter space. Since we are attempting to learn an expectation, we can rewrite the problem as:\n",
    "$$\\theta^* \\in \\argmin_{\\theta\\in\\Theta}\\mathbb E_{x\\sim D}\\left[\\mathbb E_{(S_T, I_T)}\\left[ (S_T - I_T)^+ - T_\\theta(x))^2 \\Big | x\\right]\\right]$$\n",
    "\n",
    "We can thus train our network on payoffs and test it agaisnt MC estimations of the price."
   ]
  },
  {
   "cell_type": "code",
   "execution_count": 3,
   "metadata": {},
   "outputs": [
    {
     "data": {
      "text/plain": [
       "tensor(3.1666, device='cuda:0')"
      ]
     },
     "execution_count": 3,
     "metadata": {},
     "output_type": "execute_result"
    }
   ],
   "source": [
    "# Numerical test\n",
    "NTPB = 1024\n",
    "NB = 1024\n",
    "# n = NB * NTPB\n",
    "n = 1000\n",
    "T = 1.0\n",
    "S_0 = 50.0\n",
    "sigma = 0.2\n",
    "r = 0.1\n",
    "N = 100\n",
    "t = 0.2\n",
    "I = 60.0\n",
    "\n",
    "asian_option(int(1e6), N, S_0, I, t, torch.sqrt(torch.tensor(T / N)), r, sigma).mean()"
   ]
  },
  {
   "cell_type": "markdown",
   "metadata": {},
   "source": [
    "### Generating training data"
   ]
  },
  {
   "cell_type": "code",
   "execution_count": 4,
   "metadata": {},
   "outputs": [],
   "source": [
    "torch.cuda.empty_cache()"
   ]
  },
  {
   "cell_type": "code",
   "execution_count": 5,
   "metadata": {},
   "outputs": [],
   "source": [
    "# Sampling parameters from a grid\n",
    "n = 10000\n",
    "N = 100\n",
    "nb_samples = int(1e6)\n",
    "sample_params = sampler.random(n=nb_samples)\n",
    "sample_params = np.array(\n",
    "    [\n",
    "        parameter_space[\"spot\"][1] - parameter_space[\"spot\"][0],\n",
    "        parameter_space[\"path_integral\"][1] - parameter_space[\"path_integral\"][0],\n",
    "        parameter_space[\"t\"][1] - parameter_space[\"t\"][0],\n",
    "        parameter_space[\"ttm\"][1] - parameter_space[\"ttm\"][0],\n",
    "        parameter_space[\"r\"][1] - parameter_space[\"r\"][0],\n",
    "        parameter_space[\"vol\"][1] - parameter_space[\"vol\"][0],\n",
    "    ]\n",
    ") * sample_params + np.array(\n",
    "    [\n",
    "        parameter_space[\"spot\"][0],\n",
    "        parameter_space[\"path_integral\"][0],\n",
    "        parameter_space[\"t\"][0],\n",
    "        parameter_space[\"ttm\"][0],\n",
    "        parameter_space[\"r\"][0],\n",
    "        parameter_space[\"vol\"][0],\n",
    "    ]\n",
    ")\n",
    "\n",
    "sample_params[:, 1] = (sample_params[:, 3] < 0.05) * sample_params[:, 0] + (\n",
    "    sample_params[:, 3] >= 0.05\n",
    ") * sample_params[:, 0] * np.random.uniform(low=0.5, high=2, size=len(sample_params))"
   ]
  },
  {
   "cell_type": "code",
   "execution_count": 6,
   "metadata": {},
   "outputs": [],
   "source": [
    "# Seperate parameters into batches\n",
    "sample_params = torch.tensor(sample_params).to(device)\n",
    "data_loader = torch.utils.data.DataLoader(sample_params, batch_size=512)"
   ]
  },
  {
   "cell_type": "code",
   "execution_count": 7,
   "metadata": {},
   "outputs": [
    {
     "name": "stderr",
     "output_type": "stream",
     "text": [
      "Generating training data: 100%|██████████| 1954/1954 [06:05<00:00,  5.34it/s]\n"
     ]
    }
   ],
   "source": [
    "# Compute n payoffs per sample param\n",
    "results = deque()\n",
    "with tqdm.tqdm(\n",
    "    total=len(data_loader), desc=\"Generating training data\", position=0, leave=True\n",
    ") as progress_bar:\n",
    "    for sample in data_loader:\n",
    "        sample_payoffs = vmap_asian_option(\n",
    "            n,\n",
    "            N,\n",
    "            sample[:, 0],\n",
    "            sample[:, 1],\n",
    "            sample[:, 2],\n",
    "            torch.sqrt(sample[:, 3] / N),\n",
    "            sample[:, 4],\n",
    "            sample[:, 5],\n",
    "        ).mean(axis=1)\n",
    "        sample_payoffs = sample_payoffs.to(\"cpu\")\n",
    "        results.append(sample_payoffs)\n",
    "        progress_bar.update(1)"
   ]
  },
  {
   "cell_type": "code",
   "execution_count": 8,
   "metadata": {},
   "outputs": [],
   "source": [
    "# Saving data\n",
    "X_train = sample_params.to(\"cpu\").numpy()\n",
    "with open(\"../data/X_train.npy\", \"wb\") as f:\n",
    "    np.save(f, X_train)"
   ]
  },
  {
   "cell_type": "code",
   "execution_count": 9,
   "metadata": {},
   "outputs": [],
   "source": [
    "with open(\"../data/Y_train_averaged_10kpaths.npy\", \"wb\") as f:\n",
    "    np.save(f, torch.cat(list(results), dim=0).numpy(), allow_pickle=True)"
   ]
  },
  {
   "cell_type": "markdown",
   "metadata": {},
   "source": [
    "### Generating validation data"
   ]
  },
  {
   "cell_type": "code",
   "execution_count": 10,
   "metadata": {},
   "outputs": [],
   "source": [
    "torch.cuda.empty_cache()"
   ]
  },
  {
   "cell_type": "code",
   "execution_count": 11,
   "metadata": {},
   "outputs": [],
   "source": [
    "n = NB * NTPB\n",
    "N = 100\n",
    "nb_samples = int(1e4)\n",
    "sample_params = sampler.random(n=nb_samples)\n",
    "sample_params = np.array(\n",
    "    [\n",
    "        parameter_space[\"spot\"][1] - parameter_space[\"spot\"][0],\n",
    "        parameter_space[\"path_integral\"][1] - parameter_space[\"path_integral\"][0],\n",
    "        parameter_space[\"t\"][1] - parameter_space[\"t\"][0],\n",
    "        parameter_space[\"ttm\"][1] - parameter_space[\"ttm\"][0],\n",
    "        parameter_space[\"r\"][1] - parameter_space[\"r\"][0],\n",
    "        parameter_space[\"vol\"][1] - parameter_space[\"vol\"][0],\n",
    "    ]\n",
    ") * sample_params + np.array(\n",
    "    [\n",
    "        parameter_space[\"spot\"][0],\n",
    "        parameter_space[\"path_integral\"][0],\n",
    "        parameter_space[\"t\"][0],\n",
    "        parameter_space[\"ttm\"][0],\n",
    "        parameter_space[\"r\"][0],\n",
    "        parameter_space[\"vol\"][0],\n",
    "    ]\n",
    ")\n",
    "\n",
    "sample_params[:, 1] = (sample_params[:, 3] < 0.05) * sample_params[:, 0] + (\n",
    "    sample_params[:, 3] >= 0.05\n",
    ") * sample_params[:, 0] * np.random.uniform(low=0.5, high=2, size=len(sample_params))"
   ]
  },
  {
   "cell_type": "code",
   "execution_count": 12,
   "metadata": {},
   "outputs": [],
   "source": [
    "# Seperate parameters into batches\n",
    "sample_params = torch.tensor(sample_params).to(device)\n",
    "data_loader = torch.utils.data.DataLoader(sample_params, batch_size=5)"
   ]
  },
  {
   "cell_type": "code",
   "execution_count": 13,
   "metadata": {},
   "outputs": [
    {
     "name": "stderr",
     "output_type": "stream",
     "text": [
      "Generating validation data: 100%|██████████| 2000/2000 [10:09<00:00,  3.28it/s]\n"
     ]
    }
   ],
   "source": [
    "# Compute n payoffs per sample param and retrieve mc estimator of price\n",
    "results = deque()\n",
    "with tqdm.tqdm(\n",
    "    total=len(data_loader), desc=\"Generating validation data\", position=0, leave=True\n",
    ") as progress_bar:\n",
    "    for sample in data_loader:\n",
    "        sample_payoffs = vmap_asian_option(\n",
    "            n,\n",
    "            N,\n",
    "            sample[:, 0],\n",
    "            sample[:, 1],\n",
    "            sample[:, 2],\n",
    "            torch.sqrt(sample[:, 3] / N),\n",
    "            sample[:, 4],\n",
    "            sample[:, 5],\n",
    "        ).mean(axis=1)\n",
    "        sample_payoffs = sample_payoffs.to(\"cpu\")\n",
    "        results.append(sample_payoffs)\n",
    "        progress_bar.update(1)"
   ]
  },
  {
   "cell_type": "code",
   "execution_count": 14,
   "metadata": {},
   "outputs": [],
   "source": [
    "# Saving data\n",
    "X_valid = sample_params.to(\"cpu\").numpy()\n",
    "with open(\"../data/X_valid.npy\", \"wb\") as f:\n",
    "    np.save(f, X_valid)"
   ]
  },
  {
   "cell_type": "code",
   "execution_count": 15,
   "metadata": {},
   "outputs": [],
   "source": [
    "with open(\"../data/Y_valid.npy\", \"wb\") as f:\n",
    "    np.save(f, torch.cat(list(results), dim=0).numpy())"
   ]
  }
 ],
 "metadata": {
  "kernelspec": {
   "display_name": "venv",
   "language": "python",
   "name": "python3"
  },
  "language_info": {
   "codemirror_mode": {
    "name": "ipython",
    "version": 3
   },
   "file_extension": ".py",
   "mimetype": "text/x-python",
   "name": "python",
   "nbconvert_exporter": "python",
   "pygments_lexer": "ipython3",
   "version": "3.9.18"
  }
 },
 "nbformat": 4,
 "nbformat_minor": 2
}
