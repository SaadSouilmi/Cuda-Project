{
 "cells": [
  {
   "cell_type": "code",
   "execution_count": 1,
   "metadata": {},
   "outputs": [
    {
     "data": {
      "text/html": [
       "\n",
       "                <script type=\"application/javascript\" id=\"jupyter_black\">\n",
       "                (function() {\n",
       "                    if (window.IPython === undefined) {\n",
       "                        return\n",
       "                    }\n",
       "                    var msg = \"WARNING: it looks like you might have loaded \" +\n",
       "                        \"jupyter_black in a non-lab notebook with \" +\n",
       "                        \"`is_lab=True`. Please double check, and if \" +\n",
       "                        \"loading with `%load_ext` please review the README!\"\n",
       "                    console.log(msg)\n",
       "                    alert(msg)\n",
       "                })()\n",
       "                </script>\n",
       "                "
      ],
      "text/plain": [
       "<IPython.core.display.HTML object>"
      ]
     },
     "metadata": {},
     "output_type": "display_data"
    }
   ],
   "source": [
    "%load_ext jupyter_black\n",
    "import torch\n",
    "import numpy as np\n",
    "from numba import cuda, float32, int32\n",
    "import cuda_pricing as cp\n",
    "from torch_pricing import asian_option, vmap_asian_option\n",
    "import math\n",
    "import matplotlib.pyplot as plt\n",
    "import scienceplots\n",
    "import tqdm\n",
    "\n",
    "plt.style.use([\"grid\", \"science\", \"no-latex\"])\n",
    "\n",
    "with open(\"../data/X_valid.npy\", \"rb\") as f:\n",
    "    X_valid = np.load(f)"
   ]
  },
  {
   "cell_type": "markdown",
   "metadata": {},
   "source": [
    "We will use the pytorch implementation as a benchmark."
   ]
  },
  {
   "cell_type": "markdown",
   "metadata": {},
   "source": [
    "### Monte Carlo estimation using numba.cuda.reduce :"
   ]
  },
  {
   "cell_type": "code",
   "execution_count": 2,
   "metadata": {},
   "outputs": [],
   "source": [
    "S = 50\n",
    "I = 60\n",
    "t = 0.2\n",
    "ttm = 1\n",
    "r = 0.1\n",
    "sigma = 0.2\n",
    "n_steps = 100\n",
    "n_paths = 1000000"
   ]
  },
  {
   "cell_type": "code",
   "execution_count": 3,
   "metadata": {},
   "outputs": [
    {
     "name": "stderr",
     "output_type": "stream",
     "text": [
      "/users/eleves-a/2020/saad.souilmi/Cuda-Project/venv/lib64/python3.9/site-packages/numba/cuda/dispatcher.py:536: NumbaPerformanceWarning: Grid size 64 will likely result in GPU under-utilization due to low occupancy.\n",
      "  warn(NumbaPerformanceWarning(msg))\n",
      "/users/eleves-a/2020/saad.souilmi/Cuda-Project/venv/lib64/python3.9/site-packages/numba/cuda/dispatcher.py:536: NumbaPerformanceWarning: Grid size 1 will likely result in GPU under-utilization due to low occupancy.\n",
      "  warn(NumbaPerformanceWarning(msg))\n"
     ]
    }
   ],
   "source": [
    "cuda_mean, cuda_var = cp.asian_option_1(S, I, n_paths, n_steps, t, ttm, r, sigma)\n",
    "torch_mean = asian_option(\n",
    "    n_paths, n_steps, S, I, t, torch.sqrt(torch.tensor(ttm / n_steps)), r, sigma\n",
    ").mean()"
   ]
  },
  {
   "cell_type": "code",
   "execution_count": 4,
   "metadata": {},
   "outputs": [
    {
     "name": "stdout",
     "output_type": "stream",
     "text": [
      "Cuda estimate = 3.16599775 with confidence interval [3.1569122693647853, 3.1750832306352144]. Benchmark value : 3.1665968894958496\n"
     ]
    }
   ],
   "source": [
    "# Sanity Check\n",
    "print(\n",
    "    f\"Cuda estimate = {cuda_mean} with confidence interval [{cuda_mean - 1.96*np.sqrt(cuda_var / n_paths)}, {cuda_mean + 1.96*np.sqrt(cuda_var / n_paths)}]. Benchmark value : {torch_mean.item()}\"\n",
    ")"
   ]
  },
  {
   "cell_type": "code",
   "execution_count": 5,
   "metadata": {},
   "outputs": [
    {
     "name": "stdout",
     "output_type": "stream",
     "text": [
      "134 ms ± 506 µs per loop (mean ± std. dev. of 7 runs, 10 loops each)\n"
     ]
    }
   ],
   "source": [
    "%%timeit\n",
    "cuda_mean, cuda_var = cp.asian_option_1(S, I, n_paths, n_steps, t, ttm, r, sigma)\n",
    "cuda.synchronize()"
   ]
  },
  {
   "cell_type": "markdown",
   "metadata": {},
   "source": [
    "### Monte Carlo estimation without numba.cuda.reduce : "
   ]
  },
  {
   "cell_type": "code",
   "execution_count": 6,
   "metadata": {},
   "outputs": [],
   "source": [
    "cuda_mean, cuda_var = cp.asian_option_2(S, I, n_paths, n_steps, t, ttm, r, sigma)"
   ]
  },
  {
   "cell_type": "code",
   "execution_count": 7,
   "metadata": {},
   "outputs": [
    {
     "name": "stdout",
     "output_type": "stream",
     "text": [
      "Cuda estimate = 3.1673836708068848 with confidence interval [3.158297077492536, 3.1764702641212335]. Benchmark value : 3.1665968894958496\n"
     ]
    }
   ],
   "source": [
    "# Sanity check\n",
    "print(\n",
    "    f\"Cuda estimate = {cuda_mean} with confidence interval [{cuda_mean - 1.96*np.sqrt(cuda_var / n_paths)}, {cuda_mean + 1.96*np.sqrt(cuda_var / n_paths)}]. Benchmark value : {torch_mean.item()}\"\n",
    ")"
   ]
  },
  {
   "cell_type": "code",
   "execution_count": 8,
   "metadata": {},
   "outputs": [
    {
     "name": "stdout",
     "output_type": "stream",
     "text": [
      "132 ms ± 361 µs per loop (mean ± std. dev. of 7 runs, 10 loops each)\n"
     ]
    }
   ],
   "source": [
    "%%timeit\n",
    "cuda_mean, cuda_var = cp.asian_option_2(S, I, n_paths, n_steps, t, ttm, r, sigma)\n",
    "cuda.synchronize()"
   ]
  },
  {
   "cell_type": "markdown",
   "metadata": {},
   "source": [
    "### Parallelizing over Initial conditions :"
   ]
  },
  {
   "cell_type": "code",
   "execution_count": 9,
   "metadata": {},
   "outputs": [],
   "source": [
    "torch.cuda.empty_cache()\n",
    "param_grid = np.concatenate(\n",
    "    (\n",
    "        X_valid[:1000, 0].reshape(-1, 1),\n",
    "        X_valid[:1000, 1].reshape(-1, 1),\n",
    "        X_valid[:1000, 2].reshape(-1, 1),\n",
    "        ttm * np.ones((1000, 1)),\n",
    "        r * np.ones((1000, 1)),\n",
    "        sigma * np.ones((1000, 1)),\n",
    "    ),\n",
    "    axis=1,\n",
    ")\n",
    "torch_param_grid = torch.tensor(param_grid).to(\"cuda\")\n",
    "torch_param_grid[:, 3] = torch.sqrt(torch_param_grid[:, 3] / n_steps)\n",
    "torch_loader = torch.utils.data.DataLoader(torch_param_grid, batch_size=5)"
   ]
  },
  {
   "cell_type": "code",
   "execution_count": 10,
   "metadata": {},
   "outputs": [],
   "source": [
    "# Every block samples n_paths for a different (t, S_t, I_t)\n",
    "Y_cuda = cp.asian_option_4(\n",
    "    np.ascontiguousarray(param_grid[:, 0]),\n",
    "    np.ascontiguousarray(param_grid[:, 1]),\n",
    "    n_paths,\n",
    "    n_steps,\n",
    "    np.ascontiguousarray(param_grid[:, 2]),\n",
    "    ttm,\n",
    "    r,\n",
    "    sigma,\n",
    ")"
   ]
  },
  {
   "cell_type": "code",
   "execution_count": 11,
   "metadata": {},
   "outputs": [
    {
     "name": "stderr",
     "output_type": "stream",
     "text": [
      "Generating data using torch: 100%|██████████| 200/200 [01:01<00:00,  3.26it/s]\n"
     ]
    }
   ],
   "source": [
    "Y_torch = []\n",
    "with tqdm.tqdm(\n",
    "    total=len(torch_loader), desc=\"Generating data using torch\", position=0, leave=True\n",
    ") as progress_bar:\n",
    "    for sample in torch_loader:\n",
    "        sample_payoffs = vmap_asian_option(\n",
    "            n_paths,\n",
    "            n_steps,\n",
    "            sample[:, 0],\n",
    "            sample[:, 1],\n",
    "            sample[:, 2],\n",
    "            sample[:, 3],\n",
    "            sample[:, 4],\n",
    "            sample[:, 5],\n",
    "        ).mean(axis=1)\n",
    "        sample_payoffs = sample_payoffs.to(\"cpu\")\n",
    "        Y_torch.append(sample_payoffs)\n",
    "        progress_bar.update(1)"
   ]
  },
  {
   "cell_type": "code",
   "execution_count": 12,
   "metadata": {},
   "outputs": [],
   "source": [
    "Y_torch = torch.cat(list(Y_torch), dim=0).numpy()"
   ]
  },
  {
   "cell_type": "code",
   "execution_count": 13,
   "metadata": {},
   "outputs": [],
   "source": [
    "residuals = Y_cuda[:, 0] - Y_torch"
   ]
  },
  {
   "cell_type": "code",
   "execution_count": 14,
   "metadata": {},
   "outputs": [
    {
     "data": {
      "image/png": "[encoded data removed]",
      "text/plain": [
       "<Figure size 700x500 with 1 Axes>"
      ]
     },
     "metadata": {},
     "output_type": "display_data"
    }
   ],
   "source": [
    "# Sanity check\n",
    "fig = plt.figure(figsize=(7, 5))\n",
    "plt.hist(residuals, bins=50, density=True, edgecolor=\"k\")\n",
    "plt.title(\"Residuals between cuda and torch estimates\")\n",
    "plt.show()\n",
    "plt.close()"
   ]
  },
  {
   "cell_type": "code",
   "execution_count": 15,
   "metadata": {},
   "outputs": [
    {
     "name": "stdout",
     "output_type": "stream",
     "text": [
      "7.92 s ± 30.1 ms per loop (mean ± std. dev. of 7 runs, 1 loop each)\n"
     ]
    }
   ],
   "source": [
    "%%timeit\n",
    "Y_cuda = cp.asian_option_4(\n",
    "    np.ascontiguousarray(param_grid[:, 0]),\n",
    "    np.ascontiguousarray(param_grid[:, 1]),\n",
    "    n_paths,\n",
    "    n_steps,\n",
    "    np.ascontiguousarray(param_grid[:, 2]),\n",
    "    ttm,\n",
    "    r,\n",
    "    sigma,\n",
    ")\n",
    "cuda.synchronize()"
   ]
  },
  {
   "cell_type": "code",
   "execution_count": 16,
   "metadata": {},
   "outputs": [
    {
     "name": "stderr",
     "output_type": "stream",
     "text": [
      "/users/eleves-a/2020/saad.souilmi/Cuda-Project/venv/lib64/python3.9/site-packages/numba/cuda/dispatcher.py:536: NumbaPerformanceWarning: Grid size 1 will likely result in GPU under-utilization due to low occupancy.\n",
      "  warn(NumbaPerformanceWarning(msg))\n"
     ]
    }
   ],
   "source": [
    "# Every thread samples n_paths for a different (t, S_t, I_t)\n",
    "Y_cuda = cp.asian_option_3(\n",
    "    np.ascontiguousarray(param_grid[:, 0]),\n",
    "    np.ascontiguousarray(param_grid[:, 1]),\n",
    "    n_paths,\n",
    "    n_steps,\n",
    "    np.ascontiguousarray(param_grid[:, 2]),\n",
    "    ttm,\n",
    "    r,\n",
    "    sigma,\n",
    ")"
   ]
  },
  {
   "cell_type": "code",
   "execution_count": 17,
   "metadata": {},
   "outputs": [
    {
     "data": {
      "image/png": "[encoded data removed]",
      "text/plain": [
       "<Figure size 700x500 with 1 Axes>"
      ]
     },
     "metadata": {},
     "output_type": "display_data"
    }
   ],
   "source": [
    "# Sanity check\n",
    "residuals = Y_cuda[:, 0] - Y_torch\n",
    "fig = plt.figure(figsize=(7, 5))\n",
    "plt.hist(residuals, bins=50, density=True, edgecolor=\"k\")\n",
    "plt.title(\"Residuals between cuda and torch estimates\")\n",
    "plt.show()\n",
    "plt.close()"
   ]
  },
  {
   "cell_type": "code",
   "execution_count": 18,
   "metadata": {},
   "outputs": [
    {
     "name": "stdout",
     "output_type": "stream",
     "text": [
      "5min 51s ± 373 ms per loop (mean ± std. dev. of 7 runs, 1 loop each)\n"
     ]
    }
   ],
   "source": [
    "%%timeit\n",
    "Y_cuda = cp.asian_option_3(\n",
    "    np.ascontiguousarray(param_grid[:, 0]),\n",
    "    np.ascontiguousarray(param_grid[:, 1]),\n",
    "    n_paths,\n",
    "    n_steps,\n",
    "    np.ascontiguousarray(param_grid[:, 2]),\n",
    "    ttm,\n",
    "    r,\n",
    "    sigma,\n",
    ")\n",
    "cuda.synchronize()"
   ]
  }
 ],
 "metadata": {
  "kernelspec": {
   "display_name": "venv",
   "language": "python",
   "name": "python3"
  },
  "language_info": {
   "codemirror_mode": {
    "name": "ipython",
    "version": 3
   },
   "file_extension": ".py",
   "mimetype": "text/x-python",
   "name": "python",
   "nbconvert_exporter": "python",
   "pygments_lexer": "ipython3",
   "version": "3.9.18"
  }
 },
 "nbformat": 4,
 "nbformat_minor": 2
}
