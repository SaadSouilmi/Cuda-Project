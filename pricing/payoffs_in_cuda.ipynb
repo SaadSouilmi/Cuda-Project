{
 "cells": [
  {
   "cell_type": "code",
   "execution_count": 94,
   "metadata": {},
   "outputs": [
    {
     "name": "stdout",
     "output_type": "stream",
     "text": [
      "The jupyter_black extension is already loaded. To reload it, use:\n",
      "  %reload_ext jupyter_black\n"
     ]
    }
   ],
   "source": [
    "%load_ext jupyter_black\n",
    "import torch\n",
    "import numpy as np\n",
    "from numba import cuda, float32, int32\n",
    "import cuda_pricing as cp\n",
    "from torch_pricing import asian_option, vmap_asian_option\n",
    "import math\n",
    "import matplotlib.pyplot as plt\n",
    "import scienceplots\n",
    "import tqdm\n",
    "\n",
    "plt.style.use([\"grid\", \"science\", \"no-latex\"])\n",
    "\n",
    "with open(\"../data/X_valid.npy\", \"rb\") as f:\n",
    "    X_valid = np.load(f)"
   ]
  },
  {
   "cell_type": "markdown",
   "metadata": {},
   "source": [
    "We will use the pytorch implementation as a benchmark."
   ]
  },
  {
   "cell_type": "markdown",
   "metadata": {},
   "source": [
    "### Monte Carlo estimation using numba.cuda.reduce :"
   ]
  },
  {
   "cell_type": "code",
   "execution_count": 36,
   "metadata": {},
   "outputs": [],
   "source": [
    "S = 50\n",
    "I = 60\n",
    "t = 0.2\n",
    "ttm = 1\n",
    "r = 0.1\n",
    "sigma = 0.2\n",
    "n_steps = 100\n",
    "n_paths = 1000000"
   ]
  },
  {
   "cell_type": "code",
   "execution_count": 62,
   "metadata": {},
   "outputs": [],
   "source": [
    "cuda_mean, cuda_var = cp.asian_option_1(S, I, n_paths, n_steps, t, ttm, r, sigma)\n",
    "torch_mean = asian_option(\n",
    "    n_paths, n_steps, S, I, t, torch.sqrt(torch.tensor(ttm / n_steps)), r, sigma\n",
    ").mean()"
   ]
  },
  {
   "cell_type": "code",
   "execution_count": 63,
   "metadata": {},
   "outputs": [
    {
     "name": "stdout",
     "output_type": "stream",
     "text": [
      "Cuda estimate = 3.16599775 with confidence interval [3.1569122693647853, 3.1750832306352144]. Benchmark value : 3.170623540878296\n"
     ]
    }
   ],
   "source": [
    "print(\n",
    "    f\"Cuda estimate = {cuda_mean} with confidence interval [{cuda_mean - 1.96*np.sqrt(cuda_var / n_paths)}, {cuda_mean + 1.96*np.sqrt(cuda_var / n_paths)}]. Benchmark value : {torch_mean.item()}\"\n",
    ")"
   ]
  },
  {
   "cell_type": "markdown",
   "metadata": {},
   "source": [
    "### Monte Carlo estimation without numba.cuda.reduce : "
   ]
  },
  {
   "cell_type": "code",
   "execution_count": 72,
   "metadata": {},
   "outputs": [],
   "source": [
    "cuda_mean, cuda_var = cp.asian_option_2(S, I, n_paths, n_steps, t, ttm, r, sigma)"
   ]
  },
  {
   "cell_type": "code",
   "execution_count": 73,
   "metadata": {},
   "outputs": [
    {
     "name": "stdout",
     "output_type": "stream",
     "text": [
      "Cuda estimate = 3.1674931049346924 with confidence interval [3.1584061053995076, 3.176580104469877]. Benchmark value : 3.170623540878296\n"
     ]
    }
   ],
   "source": [
    "print(\n",
    "    f\"Cuda estimate = {cuda_mean} with confidence interval [{cuda_mean - 1.96*np.sqrt(cuda_var / n_paths)}, {cuda_mean + 1.96*np.sqrt(cuda_var / n_paths)}]. Benchmark value : {torch_mean.item()}\"\n",
    ")"
   ]
  },
  {
   "cell_type": "markdown",
   "metadata": {},
   "source": [
    "### Parallelizing over Initial conditions :"
   ]
  },
  {
   "cell_type": "code",
   "execution_count": 86,
   "metadata": {},
   "outputs": [],
   "source": [
    "torch.cuda.empty_cache()\n",
    "param_grid = np.concatenate(\n",
    "    (\n",
    "        X_valid[:1000, 0].reshape(-1, 1),\n",
    "        X_valid[:1000, 1].reshape(-1, 1),\n",
    "        X_valid[:1000, 2].reshape(-1, 1),\n",
    "        ttm * np.ones((1000, 1)),\n",
    "        r * np.ones((1000, 1)),\n",
    "        sigma * np.ones((1000, 1)),\n",
    "    ),\n",
    "    axis=1,\n",
    ")\n",
    "torch_param_grid = torch.tensor(param_grid).to(\"cuda\")\n",
    "torch_param_grid[:, 3] = torch.sqrt(torch_param_grid[:, 3] / n_steps)\n",
    "torch_loader = torch.utils.data.DataLoader(torch_param_grid, batch_size=5)"
   ]
  },
  {
   "cell_type": "code",
   "execution_count": 92,
   "metadata": {},
   "outputs": [],
   "source": [
    "# Every block samples n_paths for a different (t, S_t, I_t)\n",
    "Y_cuda = cp.asian_option_4(\n",
    "    np.ascontiguousarray(param_grid[:, 0]),\n",
    "    np.ascontiguousarray(param_grid[:, 1]),\n",
    "    n_paths,\n",
    "    n_steps,\n",
    "    np.ascontiguousarray(param_grid[:, 2]),\n",
    "    ttm,\n",
    "    r,\n",
    "    sigma,\n",
    ")"
   ]
  },
  {
   "cell_type": "code",
   "execution_count": 95,
   "metadata": {},
   "outputs": [
    {
     "name": "stderr",
     "output_type": "stream",
     "text": [
      "Generating data using torch: 100%|██████████| 200/200 [00:57<00:00,  3.50it/s]\n"
     ]
    }
   ],
   "source": [
    "Y_torch = []\n",
    "with tqdm.tqdm(\n",
    "    total=len(torch_loader), desc=\"Generating data using torch\", position=0, leave=True\n",
    ") as progress_bar:\n",
    "    for sample in torch_loader:\n",
    "        sample_payoffs = vmap_asian_option(\n",
    "            n_paths,\n",
    "            n_steps,\n",
    "            sample[:, 0],\n",
    "            sample[:, 1],\n",
    "            sample[:, 2],\n",
    "            sample[:, 3],\n",
    "            sample[:, 4],\n",
    "            sample[:, 5],\n",
    "        ).mean(axis=1)\n",
    "        sample_payoffs = sample_payoffs.to(\"cpu\")\n",
    "        Y_torch.append(sample_payoffs)\n",
    "        progress_bar.update(1)"
   ]
  },
  {
   "cell_type": "code",
   "execution_count": 97,
   "metadata": {},
   "outputs": [],
   "source": [
    "Y_torch = torch.cat(list(Y_torch), dim=0).numpy()"
   ]
  },
  {
   "cell_type": "code",
   "execution_count": 99,
   "metadata": {},
   "outputs": [],
   "source": [
    "residuals = Y_cuda[:, 0] - Y_torch"
   ]
  },
  {
   "cell_type": "code",
   "execution_count": 105,
   "metadata": {},
   "outputs": [
    {
     "data": {
      "image/png": "[encoded data removed]",
      "text/plain": [
       "<Figure size 700x500 with 1 Axes>"
      ]
     },
     "metadata": {},
     "output_type": "display_data"
    }
   ],
   "source": [
    "fig = plt.figure(figsize=(7, 5))\n",
    "plt.hist(residuals, bins=50, density=True, edgecolor=\"k\")\n",
    "plt.title(\"Residuals between cuda and torch estimates\")\n",
    "plt.show()\n",
    "plt.close()"
   ]
  },
  {
   "cell_type": "code",
   "execution_count": 106,
   "metadata": {},
   "outputs": [
    {
     "name": "stdout",
     "output_type": "stream",
     "text": [
      "7.07 s ± 301 ms per loop (mean ± std. dev. of 7 runs, 1 loop each)\n"
     ]
    }
   ],
   "source": [
    "%%timeit\n",
    "Y_cuda = cp.asian_option_4(\n",
    "    np.ascontiguousarray(param_grid[:, 0]),\n",
    "    np.ascontiguousarray(param_grid[:, 1]),\n",
    "    n_paths,\n",
    "    n_steps,\n",
    "    np.ascontiguousarray(param_grid[:, 2]),\n",
    "    ttm,\n",
    "    r,\n",
    "    sigma,\n",
    ")\n",
    "cuda.synchronize()"
   ]
  },
  {
   "cell_type": "code",
   "execution_count": null,
   "metadata": {},
   "outputs": [],
   "source": []
  }
 ],
 "metadata": {
  "kernelspec": {
   "display_name": "venv",
   "language": "python",
   "name": "python3"
  },
  "language_info": {
   "codemirror_mode": {
    "name": "ipython",
    "version": 3
   },
   "file_extension": ".py",
   "mimetype": "text/x-python",
   "name": "python",
   "nbconvert_exporter": "python",
   "pygments_lexer": "ipython3",
   "version": "3.9.18"
  }
 },
 "nbformat": 4,
 "nbformat_minor": 2
}
