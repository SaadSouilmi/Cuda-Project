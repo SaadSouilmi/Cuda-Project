{
 "cells": [
  {
   "cell_type": "code",
   "execution_count": 1,
   "metadata": {},
   "outputs": [
    {
     "data": {
      "text/html": [
       "\n",
       "                <script type=\"application/javascript\" id=\"jupyter_black\">\n",
       "                (function() {\n",
       "                    if (window.IPython === undefined) {\n",
       "                        return\n",
       "                    }\n",
       "                    var msg = \"WARNING: it looks like you might have loaded \" +\n",
       "                        \"jupyter_black in a non-lab notebook with \" +\n",
       "                        \"`is_lab=True`. Please double check, and if \" +\n",
       "                        \"loading with `%load_ext` please review the README!\"\n",
       "                    console.log(msg)\n",
       "                    alert(msg)\n",
       "                })()\n",
       "                </script>\n",
       "                "
      ],
      "text/plain": [
       "<IPython.core.display.HTML object>"
      ]
     },
     "metadata": {},
     "output_type": "display_data"
    }
   ],
   "source": [
    "%load_ext jupyter_black\n",
    "import numpy as np\n",
    "import torch\n",
    "from scipy.stats.qmc import Halton\n",
    "from collections import deque\n",
    "import matplotlib.pyplot as plt\n",
    "\n",
    "seed = 42\n",
    "g_cuda = torch.Generator(device=\"cuda\")\n",
    "g_cuda.manual_seed(42)\n",
    "sampler = Halton(d=6, scramble=True)\n",
    "\n",
    "parameter_space = dict(\n",
    "    spot=(30, 70),\n",
    "    path_integral=(25, 150),\n",
    "    ttm=(0.2, 1),\n",
    "    t=(0, 0.8),\n",
    "    vol=(0.1, 0.5),\n",
    "    r=(0, 0.1),\n",
    ")"
   ]
  },
  {
   "cell_type": "code",
   "execution_count": 2,
   "metadata": {},
   "outputs": [
    {
     "data": {
      "text/plain": [
       "device(type='cuda')"
      ]
     },
     "execution_count": 2,
     "metadata": {},
     "output_type": "execute_result"
    }
   ],
   "source": [
    "device = torch.device(\"cuda\" if torch.cuda.is_available() else \"cpu\")\n",
    "device"
   ]
  },
  {
   "cell_type": "markdown",
   "metadata": {},
   "source": [
    "$$ dS_t = rS_t\\,dt + \\sigma S_t \\,dt$$\n",
    "$$F(t, S_t, I_t) = e^{-r(T-t)}\\mathbb E\\left[\\left(S_T - I_T\\right)^+\\Big|\\,S_t, \\,I_t\\right]$$"
   ]
  },
  {
   "cell_type": "code",
   "execution_count": 3,
   "metadata": {},
   "outputs": [],
   "source": [
    "def asian_option(\n",
    "    n_paths: int,\n",
    "    n_steps: int,\n",
    "    spot: float,\n",
    "    path_integral: float,\n",
    "    t: float,\n",
    "    dt: float,\n",
    "    r: float,\n",
    "    sigma: float,\n",
    ") -> torch.Tensor:\n",
    "    \"\"\"Simulate n_paths of asian option payoffs\n",
    "    Args:\n",
    "        - n_paths: number of simulations\n",
    "        - n_steps: number of steps in the euler scheme\n",
    "        - spot: initial value of the asset\n",
    "        - path_integral: mean of the value of the asset at time t\n",
    "        - t: time of pricing\n",
    "        - ttm: time to maturity\n",
    "        - r: interest rate\n",
    "        - sigma: volatility\n",
    "    Returns:\n",
    "        - torch.Tensor: sample payoffs\n",
    "    \"\"\"\n",
    "    T = t + dt * n_steps\n",
    "    sample = torch.normal(\n",
    "        mean=torch.zeros(n_paths, n_steps).to(device), std=1, generator=g_cuda\n",
    "    )\n",
    "    sample = r * dt * dt + dt * sigma * sample\n",
    "    sample = torch.concatenate(\n",
    "        (\n",
    "            spot * torch.ones((n_paths, 1)).to(device),\n",
    "            spot * torch.exp(sample.cumsum(axis=1)),\n",
    "        ),\n",
    "        axis=1,\n",
    "    )\n",
    "    sample = torch.maximum(\n",
    "        sample[:, -1] - t * path_integral / T - dt * n_steps * sample.mean(axis=1) / T,\n",
    "        torch.zeros(1).to(device),\n",
    "    )\n",
    "    # We use the same name variable sample to free up gpu memory of unecessary data\n",
    "    return sample"
   ]
  },
  {
   "cell_type": "code",
   "execution_count": 4,
   "metadata": {},
   "outputs": [],
   "source": [
    "NTPB = 1024\n",
    "NB = 1024\n",
    "# n = NB * NTPB\n",
    "n = 1000\n",
    "T = 1.0\n",
    "S_0 = 50.0\n",
    "sigma = 0.2\n",
    "r = 0.1\n",
    "N = 100\n",
    "t = 0.2\n",
    "I = 60.0"
   ]
  },
  {
   "cell_type": "code",
   "execution_count": 5,
   "metadata": {},
   "outputs": [
    {
     "data": {
      "text/plain": [
       "tensor(4.2253, device='cuda:0')"
      ]
     },
     "execution_count": 5,
     "metadata": {},
     "output_type": "execute_result"
    }
   ],
   "source": [
    "# Test\n",
    "asian_option(n, N, S_0, I, t, np.sqrt(T / N), r, sigma).mean()"
   ]
  },
  {
   "cell_type": "code",
   "execution_count": 6,
   "metadata": {},
   "outputs": [],
   "source": [
    "# vectorizing the payoffs sampler for batch operations\n",
    "vmap_asian_option = torch.vmap(\n",
    "    asian_option,\n",
    "    in_dims=(None, None, 0, 0, 0, 0, 0, 0),\n",
    "    out_dims=0,\n",
    "    randomness=\"different\",\n",
    ")"
   ]
  },
  {
   "cell_type": "markdown",
   "metadata": {},
   "source": [
    "### Generating training data"
   ]
  },
  {
   "cell_type": "code",
   "execution_count": 8,
   "metadata": {},
   "outputs": [],
   "source": [
    "# Sampling parameters from a grid\n",
    "n = 1000\n",
    "N = 100\n",
    "nb_samples = int(1e6)\n",
    "sample_params = sampler.random(n=nb_samples)\n",
    "sample_params = np.array(\n",
    "    [\n",
    "        parameter_space[\"spot\"][1] - parameter_space[\"spot\"][0],\n",
    "        parameter_space[\"path_integral\"][1] - parameter_space[\"path_integral\"][0],\n",
    "        parameter_space[\"ttm\"][1] - parameter_space[\"ttm\"][0],\n",
    "        parameter_space[\"t\"][1] - parameter_space[\"t\"][0],\n",
    "        parameter_space[\"r\"][1] - parameter_space[\"r\"][0],\n",
    "        parameter_space[\"vol\"][1] - parameter_space[\"vol\"][0],\n",
    "    ]\n",
    ") * sample_params + np.array(\n",
    "    [\n",
    "        parameter_space[\"spot\"][0],\n",
    "        parameter_space[\"path_integral\"][0],\n",
    "        parameter_space[\"ttm\"][0],\n",
    "        parameter_space[\"t\"][0],\n",
    "        parameter_space[\"r\"][0],\n",
    "        parameter_space[\"vol\"][0],\n",
    "    ]\n",
    ")\n",
    "\n",
    "sample_params[:, 1] = (sample_params[:, 3] < 0.05) * sample_params[:, 0] + (\n",
    "    sample_params[:, 3] >= 0.05\n",
    ") * sample_params[:, 0] * np.random.uniform(low=0.5, high=2, size=len(sample_params))\n",
    "\n",
    "sample_params[:, 2] = np.sqrt(sample_params[:, 2] / N)"
   ]
  },
  {
   "cell_type": "code",
   "execution_count": 38,
   "metadata": {},
   "outputs": [],
   "source": [
    "# Seperate parameters into batches\n",
    "sample_params = torch.tensor(sample_params).to(device)\n",
    "data_loader = torch.utils.data.DataLoader(sample_params, batch_size=1024)"
   ]
  },
  {
   "cell_type": "code",
   "execution_count": null,
   "metadata": {},
   "outputs": [],
   "source": [
    "# Compute n payoffs per sample param\n",
    "results = deque()\n",
    "for sample in data_loader:\n",
    "    sample_payoffs = vmap_asian_option(\n",
    "        n,\n",
    "        N,\n",
    "        sample[:, 0],\n",
    "        sample[:, 1],\n",
    "        sample[:, 2],\n",
    "        sample[:, 3],\n",
    "        sample[:, 4],\n",
    "        sample[:, 5],\n",
    "    )\n",
    "    sample_payoffs = sample_payoffs.to(\"cpu\")\n",
    "    results.append(sample_payoffs)"
   ]
  },
  {
   "cell_type": "code",
   "execution_count": 64,
   "metadata": {},
   "outputs": [],
   "source": [
    "# Saving data\n",
    "X_train = sample_params.to(\"cpu\").numpy()\n",
    "with open(\"X_train.npy\", \"wb\") as f:\n",
    "    np.save(f, X_train)"
   ]
  },
  {
   "cell_type": "code",
   "execution_count": 66,
   "metadata": {},
   "outputs": [],
   "source": [
    "with open(\"Y_train.npy\", \"wb\") as f:\n",
    "    np.save(f, torch.cat(list(results), dim=0).numpy(), allow_pickle=True)"
   ]
  },
  {
   "cell_type": "markdown",
   "metadata": {},
   "source": [
    "### Generating validation data"
   ]
  },
  {
   "cell_type": "code",
   "execution_count": 7,
   "metadata": {},
   "outputs": [],
   "source": [
    "n = NB * NTPB\n",
    "N = 100\n",
    "nb_samples = int(1e4)\n",
    "sample_params = sampler.random(n=nb_samples)\n",
    "sample_params = np.array(\n",
    "    [\n",
    "        parameter_space[\"spot\"][1] - parameter_space[\"spot\"][0],\n",
    "        parameter_space[\"path_integral\"][1] - parameter_space[\"path_integral\"][0],\n",
    "        parameter_space[\"ttm\"][1] - parameter_space[\"ttm\"][0],\n",
    "        parameter_space[\"t\"][1] - parameter_space[\"t\"][0],\n",
    "        parameter_space[\"r\"][1] - parameter_space[\"r\"][0],\n",
    "        parameter_space[\"vol\"][1] - parameter_space[\"vol\"][0],\n",
    "    ]\n",
    ") * sample_params + np.array(\n",
    "    [\n",
    "        parameter_space[\"spot\"][0],\n",
    "        parameter_space[\"path_integral\"][0],\n",
    "        parameter_space[\"ttm\"][0],\n",
    "        parameter_space[\"t\"][0],\n",
    "        parameter_space[\"r\"][0],\n",
    "        parameter_space[\"vol\"][0],\n",
    "    ]\n",
    ")\n",
    "\n",
    "sample_params[:, 1] = (sample_params[:, 3] < 0.05) * sample_params[:, 0] + (\n",
    "    sample_params[:, 3] >= 0.05\n",
    ") * sample_params[:, 0] * np.random.uniform(low=0.5, high=2, size=len(sample_params))\n",
    "\n",
    "sample_params[:, 2] = np.sqrt(sample_params[:, 2] / N)"
   ]
  },
  {
   "cell_type": "code",
   "execution_count": 8,
   "metadata": {},
   "outputs": [],
   "source": [
    "# Seperate parameters into batches\n",
    "sample_params = torch.tensor(sample_params).to(device)\n",
    "data_loader = torch.utils.data.DataLoader(sample_params, batch_size=10)"
   ]
  },
  {
   "cell_type": "code",
   "execution_count": 9,
   "metadata": {},
   "outputs": [],
   "source": [
    "# Compute n payoffs per sample param and retrieve mc estimator of price\n",
    "results = deque()\n",
    "for sample in data_loader:\n",
    "    sample_payoffs = vmap_asian_option(\n",
    "        n,\n",
    "        N,\n",
    "        sample[:, 0],\n",
    "        sample[:, 1],\n",
    "        sample[:, 2],\n",
    "        sample[:, 3],\n",
    "        sample[:, 4],\n",
    "        sample[:, 5],\n",
    "    ).mean(axis=1)\n",
    "    sample_payoffs = sample_payoffs.to(\"cpu\")\n",
    "    results.append(sample_payoffs)"
   ]
  },
  {
   "cell_type": "code",
   "execution_count": 13,
   "metadata": {},
   "outputs": [],
   "source": [
    "# Saving data\n",
    "X_valid = sample_params.to(\"cpu\").numpy()\n",
    "with open(\"X_valid.npy\", \"wb\") as f:\n",
    "    np.save(f, X_valid)"
   ]
  },
  {
   "cell_type": "code",
   "execution_count": 14,
   "metadata": {},
   "outputs": [],
   "source": [
    "with open(\"Y_valid.npy\", \"wb\") as f:\n",
    "    np.save(f, torch.cat(list(results), dim=0).numpy())"
   ]
  },
  {
   "cell_type": "code",
   "execution_count": null,
   "metadata": {},
   "outputs": [],
   "source": []
  }
 ],
 "metadata": {
  "kernelspec": {
   "display_name": "venv",
   "language": "python",
   "name": "python3"
  },
  "language_info": {
   "codemirror_mode": {
    "name": "ipython",
    "version": 3
   },
   "file_extension": ".py",
   "mimetype": "text/x-python",
   "name": "python",
   "nbconvert_exporter": "python",
   "pygments_lexer": "ipython3",
   "version": "3.9.18"
  }
 },
 "nbformat": 4,
 "nbformat_minor": 2
}
